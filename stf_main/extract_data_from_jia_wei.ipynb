{
 "cells": [
  {
   "cell_type": "code",
   "execution_count": 8,
   "metadata": {},
   "outputs": [
    {
     "name": "stdout",
     "output_type": "stream",
     "text": [
      "(282, 200)\n"
     ]
    }
   ],
   "source": [
    "import pandas as pd\n",
    "import numpy as np\n",
    "import os\n",
    "\n",
    "# Function to parse the JSON-like string and extract the values\n",
    "def parse_dynamodb_json(json_str):\n",
    "    json_str = json_str[1:-1]\n",
    "    json_objects = json_str.split(\"},{\")\n",
    "    json_objects = [obj.replace(\"{\", \"\").replace(\"}\", \"\") for obj in json_objects]\n",
    "\n",
    "    values = []\n",
    "    for obj in json_objects:\n",
    "        key_value_pairs = obj.split(\",\")\n",
    "        for pair in key_value_pairs:\n",
    "            key, value = pair.split(\":\")\n",
    "            if key.strip() == '\"S\"':\n",
    "                values.append(float(value.strip().replace('\"', \"\")))\n",
    "    return values\n",
    "\n",
    "\n",
    "# Read the CSV file\n",
    "df = pd.read_csv(\"data/jw_data/2-random.csv\")\n",
    "\n",
    "# Parse the JSON-like strings in the avgAcc and avgGyro columns\n",
    "df[\"avgAcc\"] = df[\"avgAcc\"].apply(parse_dynamodb_json)\n",
    "df[\"avgGyro\"] = df[\"avgGyro\"].apply(parse_dynamodb_json)\n",
    "\n",
    "# Extract the data into a numpy matrix\n",
    "avg_acc_matrix = np.array(df[\"avgAcc\"].tolist())\n",
    "avg_gyro_matrix = np.array(df[\"avgGyro\"].tolist())\n",
    "\n",
    "# Combine avgAcc and avgGyro into a single numpy matrix\n",
    "\n",
    "# Print the combined matrix\n",
    "print(avg_acc_matrix.shape)\n"
   ]
  },
  {
   "cell_type": "code",
   "execution_count": 7,
   "metadata": {},
   "outputs": [],
   "source": [
    "with open(f\"data/multiclass_training_data/JW Data/cwalking_5_acc.txt\", \"w\") as f:\n",
    "    np.savetxt(f, avg_acc_matrix, fmt=\"%s\", delimiter=\" \")\n",
    "\n",
    "with open(f\"data/multiclass_training_data/JW Data/cwalking_5_gyro.txt\", \"w\") as f:\n",
    "    np.savetxt(f, avg_gyro_matrix, fmt=\"%s\", delimiter=\" \")"
   ]
  },
  {
   "cell_type": "code",
   "execution_count": 9,
   "metadata": {},
   "outputs": [
    {
     "name": "stdout",
     "output_type": "stream",
     "text": [
      "(1176, 200)\n",
      "(1176, 200)\n"
     ]
    }
   ],
   "source": [
    "\n",
    "# Directory containing the files\n",
    "directory = \"data/multiclass_training_data/JW Data\"\n",
    "\n",
    "# List to store the data from each file\n",
    "acc_data_list = []\n",
    "gyro_data_list = []\n",
    "\n",
    "# Iterate over all files in the directory\n",
    "for filename in os.listdir(directory):\n",
    "    if \"acc\" in filename:\n",
    "        filepath = os.path.join(directory, filename)\n",
    "        data = np.loadtxt(filepath)\n",
    "        acc_data_list.append(data)\n",
    "\n",
    "    if \"gyro\" in filename:\n",
    "        filepath = os.path.join(directory, filename)\n",
    "        data = np.loadtxt(filepath)\n",
    "        gyro_data_list.append(data)\n",
    "\n",
    "# Concatenate all the data into one numpy array\n",
    "concatenated_acc_data = np.concatenate(acc_data_list, axis=0)\n",
    "concatenated_gyro_data = np.concatenate(gyro_data_list, axis=0)\n",
    "\n",
    "# Print the shape of the concatenated data\n",
    "print(concatenated_acc_data.shape)\n",
    "print(concatenated_gyro_data.shape)\n"
   ]
  },
  {
   "cell_type": "code",
   "execution_count": 10,
   "metadata": {},
   "outputs": [],
   "source": [
    "with open(f\"data/multiclass_training_data/JW Data/cwalking_acc.txt\", \"w\") as f:\n",
    "    np.savetxt(f, concatenated_acc_data, fmt=\"%s\", delimiter=\" \")\n",
    "\n",
    "with open(f\"data/multiclass_training_data/JW Data/cwalking_gyro.txt\", \"w\") as f:\n",
    "    np.savetxt(f, concatenated_gyro_data, fmt=\"%s\", delimiter=\" \")\n"
   ]
  }
 ],
 "metadata": {
  "kernelspec": {
   "display_name": "tf_py",
   "language": "python",
   "name": "python3"
  },
  "language_info": {
   "codemirror_mode": {
    "name": "ipython",
    "version": 3
   },
   "file_extension": ".py",
   "mimetype": "text/x-python",
   "name": "python",
   "nbconvert_exporter": "python",
   "pygments_lexer": "ipython3",
   "version": "3.10.15"
  }
 },
 "nbformat": 4,
 "nbformat_minor": 2
}
