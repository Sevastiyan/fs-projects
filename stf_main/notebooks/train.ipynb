{
 "cells": [
  {
   "cell_type": "markdown",
   "metadata": {},
   "source": [
    "# Training one signal\n",
    "\n",
    "This notebook contains the base training and validating for a single signal\n",
    "\n",
    "In the initial case we look at training on Acceleration"
   ]
  },
  {
   "cell_type": "code",
   "execution_count": 1,
   "metadata": {},
   "outputs": [
    {
     "name": "stdout",
     "output_type": "stream",
     "text": [
      "c:\\Users\\joonn\\Desktop\\pyscript\n",
      " Volume in drive C has no label.\n",
      " Volume Serial Number is CCA6-9910\n",
      "\n",
      " Directory of c:\\Users\\joonn\\Desktop\\pyscript\n",
      "\n",
      "09/21/2022  09:54 AM    <DIR>          .\n",
      "09/21/2022  09:54 AM    <DIR>          ..\n",
      "08/19/2022  12:02 PM    <DIR>          .vscode\n",
      "09/21/2022  09:54 AM    <DIR>          COP analysis\n",
      "09/21/2022  09:55 AM    <DIR>          displacement_metrics\n",
      "09/21/2022  09:54 AM    <DIR>          stf_main\n",
      "09/21/2022  09:41 AM    <DIR>          utils\n",
      "               0 File(s)              0 bytes\n",
      "               7 Dir(s)  302,542,823,424 bytes free\n"
     ]
    }
   ],
   "source": [
    "%cd .."
   ]
  },
  {
   "cell_type": "code",
   "execution_count": 2,
   "metadata": {},
   "outputs": [
    {
     "name": "stdout",
     "output_type": "stream",
     "text": [
      "c:\\Users\\joonn\\Desktop\\pyscript\\fs_processor_main\n"
     ]
    }
   ],
   "source": [
    "from tensorflow import keras\n",
    "from models.ts_cnn import TS_CNN as ts_cnn\n",
    "import numpy as np\n",
    "from sklearn.model_selection import train_test_split\n",
    "from models.loader import loader\n",
    "import matplotlib.pyplot as plt\n",
    "from sklearn import preprocessing\n",
    "from utils.normalisation import min_max"
   ]
  },
  {
   "cell_type": "markdown",
   "metadata": {},
   "source": [
    "# Load Data"
   ]
  },
  {
   "cell_type": "code",
   "execution_count": 79,
   "metadata": {},
   "outputs": [
    {
     "name": "stdout",
     "output_type": "stream",
     "text": [
      "x positive: (638, 200)\n",
      "x negative: (1156, 200)\n",
      "y positive: (638, 200)\n",
      "y negative: (1156, 200)\n"
     ]
    }
   ],
   "source": [
    "# Data\n",
    "x_positive = np.loadtxt('data/processed/incidents_acc_combined.txt')\n",
    "x_negative = np.loadtxt('data/processed/no_incidents_acc_may.txt')\n",
    "# x_negative = preprocessing.normalize(x_negative)\n",
    "\n",
    "x_noise = np.random.rand(300, 200)\n",
    "x_negative = np.concatenate([x_noise, x_negative])\n",
    "\n",
    "# Labels\n",
    "y_positive = np.ones(x_positive.shape[0])\n",
    "y_negative = np.zeros(x_negative.shape[0])\n",
    "\n",
    "print(f'x positive: {x_positive.shape}')\n",
    "print(f'x negative: {x_negative.shape}')\n",
    "print(f'y positive: {x_positive.shape}')\n",
    "print(f'y negative: {x_negative.shape}')"
   ]
  },
  {
   "cell_type": "code",
   "execution_count": 80,
   "metadata": {},
   "outputs": [
    {
     "name": "stdout",
     "output_type": "stream",
     "text": [
      "x: (1794, 200)\n",
      "y: (1794,)\n"
     ]
    }
   ],
   "source": [
    "scaler = preprocessing.StandardScaler()\n",
    "x = np.concatenate([x_positive, x_negative], axis=0)\n",
    "\n",
    "x_normalised = []\n",
    "for i in range(x.shape[0]): \n",
    "    try:\n",
    "        x_normalised.append(min_max(x[i].tolist()))\n",
    "    except:\n",
    "        continue\n",
    "\n",
    "x = np.asarray(x_normalised)\n",
    "\n",
    "y = np.concatenate([y_positive, y_negative], axis=0)\n",
    "x_scaled = preprocessing.normalize(x)\n",
    "\n",
    "print(f'x: {x_scaled.shape}')\n",
    "print(f'y: {y.shape}')\n",
    "\n"
   ]
  },
  {
   "cell_type": "code",
   "execution_count": null,
   "metadata": {},
   "outputs": [],
   "source": [
    "# Create a categorical variable for the labels\n",
    "# if any NAN values are present, remove them\n",
    "\n",
    "y = y.reshape(len(y), 1)\n",
    "y = keras.utils.to_categorical(y)\n",
    "\n",
    "print(f'x: {x.shape}')\n",
    "print(f'nans: {np.any(np.isnan(x))}')\n",
    "print(f'y: {y.shape}')\n",
    "\n",
    "if np.any(np.isnan(x)):\n",
    "    print('NANs found')\n",
    "    idx = ~np.isnan(x).any(axis=1) # find the nans if any\n",
    "    x = x[idx]\n",
    "    y = y[idx]\n",
    "    print(f'x: {x.shape}')\n",
    "    print(f'y: {y.shape}')\n"
   ]
  },
  {
   "cell_type": "markdown",
   "metadata": {},
   "source": [
    "### Loader if necessary "
   ]
  },
  {
   "cell_type": "code",
   "execution_count": 6,
   "metadata": {},
   "outputs": [],
   "source": [
    "# train_ds = loader(X_train, y_train, batch_size=50, train=True)\n",
    "# valid_ds = loader(X_test, y_test, batch_size=50, train=False)"
   ]
  },
  {
   "cell_type": "markdown",
   "metadata": {},
   "source": [
    "# Train Network"
   ]
  },
  {
   "cell_type": "code",
   "execution_count": 82,
   "metadata": {},
   "outputs": [],
   "source": [
    "model = ts_cnn()\n",
    "\n",
    "idx = np.random.permutation(len(x))\n",
    "x = x[idx]\n",
    "y = y[idx]\n",
    "\n",
    "callbacks = [\n",
    "    keras.callbacks.ModelCheckpoint(\n",
    "        \"best_model.h5\", save_best_only=True, monitor=\"val_loss\"\n",
    "    ),\n",
    "    keras.callbacks.ReduceLROnPlateau(\n",
    "        monitor=\"val_loss\", factor=0.5, patience=20, min_lr=0.00001\n",
    "    ),\n",
    "    keras.callbacks.EarlyStopping(monitor=\"val_loss\", patience=50, verbose=1),\n",
    "    ]\n",
    "\n",
    "optimizer = keras.optimizers.Adam(learning_rate=0.00005)\n",
    "model.compile(optimizer=optimizer,\n",
    "                loss=['binary_crossentropy'],\n",
    "                metrics=['accuracy'])\n"
   ]
  },
  {
   "cell_type": "code",
   "execution_count": 83,
   "metadata": {},
   "outputs": [
    {
     "name": "stdout",
     "output_type": "stream",
     "text": [
      "Epoch 1/200\n",
      "17/17 - 2s - loss: 0.5833 - accuracy: 0.7500 - val_loss: 0.6883 - val_accuracy: 0.8022 - 2s/epoch - 134ms/step\n",
      "Epoch 2/200\n",
      "17/17 - 0s - loss: 0.4715 - accuracy: 0.8113 - val_loss: 0.6787 - val_accuracy: 0.8148 - 257ms/epoch - 15ms/step\n",
      "Epoch 3/200\n",
      "17/17 - 0s - loss: 0.4228 - accuracy: 0.8318 - val_loss: 0.6680 - val_accuracy: 0.8092 - 277ms/epoch - 16ms/step\n",
      "Epoch 4/200\n",
      "17/17 - 0s - loss: 0.4027 - accuracy: 0.8290 - val_loss: 0.6582 - val_accuracy: 0.8162 - 272ms/epoch - 16ms/step\n",
      "Epoch 5/200\n",
      "17/17 - 0s - loss: 0.3859 - accuracy: 0.8327 - val_loss: 0.6477 - val_accuracy: 0.8217 - 261ms/epoch - 15ms/step\n",
      "Epoch 6/200\n",
      "17/17 - 0s - loss: 0.3797 - accuracy: 0.8457 - val_loss: 0.6396 - val_accuracy: 0.8259 - 278ms/epoch - 16ms/step\n",
      "Epoch 7/200\n",
      "17/17 - 0s - loss: 0.3671 - accuracy: 0.8559 - val_loss: 0.6277 - val_accuracy: 0.8287 - 271ms/epoch - 16ms/step\n",
      "Epoch 8/200\n",
      "17/17 - 0s - loss: 0.3622 - accuracy: 0.8597 - val_loss: 0.6155 - val_accuracy: 0.8301 - 271ms/epoch - 16ms/step\n",
      "Epoch 9/200\n",
      "17/17 - 0s - loss: 0.3522 - accuracy: 0.8634 - val_loss: 0.6043 - val_accuracy: 0.8329 - 292ms/epoch - 17ms/step\n",
      "Epoch 10/200\n",
      "17/17 - 0s - loss: 0.3469 - accuracy: 0.8736 - val_loss: 0.5933 - val_accuracy: 0.8315 - 283ms/epoch - 17ms/step\n",
      "Epoch 11/200\n",
      "17/17 - 0s - loss: 0.3352 - accuracy: 0.8838 - val_loss: 0.5783 - val_accuracy: 0.8343 - 326ms/epoch - 19ms/step\n",
      "Epoch 12/200\n",
      "17/17 - 0s - loss: 0.3340 - accuracy: 0.8801 - val_loss: 0.5652 - val_accuracy: 0.8329 - 299ms/epoch - 18ms/step\n",
      "Epoch 13/200\n",
      "17/17 - 0s - loss: 0.3359 - accuracy: 0.8838 - val_loss: 0.5544 - val_accuracy: 0.8315 - 318ms/epoch - 19ms/step\n",
      "Epoch 14/200\n",
      "17/17 - 0s - loss: 0.3171 - accuracy: 0.9006 - val_loss: 0.5403 - val_accuracy: 0.8343 - 296ms/epoch - 17ms/step\n",
      "Epoch 15/200\n",
      "17/17 - 0s - loss: 0.3143 - accuracy: 0.9043 - val_loss: 0.5263 - val_accuracy: 0.8301 - 332ms/epoch - 20ms/step\n",
      "Epoch 16/200\n",
      "17/17 - 0s - loss: 0.3167 - accuracy: 0.9006 - val_loss: 0.5184 - val_accuracy: 0.8259 - 323ms/epoch - 19ms/step\n",
      "Epoch 17/200\n",
      "17/17 - 0s - loss: 0.3027 - accuracy: 0.9071 - val_loss: 0.5122 - val_accuracy: 0.8217 - 321ms/epoch - 19ms/step\n",
      "Epoch 18/200\n",
      "17/17 - 0s - loss: 0.2969 - accuracy: 0.9024 - val_loss: 0.4992 - val_accuracy: 0.8245 - 348ms/epoch - 20ms/step\n",
      "Epoch 19/200\n",
      "17/17 - 0s - loss: 0.2991 - accuracy: 0.9173 - val_loss: 0.4976 - val_accuracy: 0.8273 - 313ms/epoch - 18ms/step\n",
      "Epoch 20/200\n",
      "17/17 - 0s - loss: 0.2862 - accuracy: 0.9154 - val_loss: 0.4859 - val_accuracy: 0.8315 - 324ms/epoch - 19ms/step\n",
      "Epoch 21/200\n",
      "17/17 - 0s - loss: 0.2813 - accuracy: 0.9201 - val_loss: 0.4786 - val_accuracy: 0.8343 - 347ms/epoch - 20ms/step\n",
      "Epoch 22/200\n",
      "17/17 - 0s - loss: 0.2817 - accuracy: 0.9164 - val_loss: 0.4772 - val_accuracy: 0.8384 - 326ms/epoch - 19ms/step\n",
      "Epoch 23/200\n",
      "17/17 - 0s - loss: 0.2804 - accuracy: 0.9191 - val_loss: 0.4741 - val_accuracy: 0.8384 - 339ms/epoch - 20ms/step\n",
      "Epoch 24/200\n",
      "17/17 - 0s - loss: 0.2731 - accuracy: 0.9182 - val_loss: 0.4675 - val_accuracy: 0.8384 - 327ms/epoch - 19ms/step\n",
      "Epoch 25/200\n",
      "17/17 - 0s - loss: 0.2667 - accuracy: 0.9219 - val_loss: 0.4650 - val_accuracy: 0.8384 - 344ms/epoch - 20ms/step\n",
      "Epoch 26/200\n",
      "17/17 - 0s - loss: 0.2662 - accuracy: 0.9191 - val_loss: 0.4627 - val_accuracy: 0.8426 - 345ms/epoch - 20ms/step\n",
      "Epoch 27/200\n",
      "17/17 - 0s - loss: 0.2611 - accuracy: 0.9201 - val_loss: 0.4572 - val_accuracy: 0.8496 - 331ms/epoch - 19ms/step\n",
      "Epoch 28/200\n",
      "17/17 - 0s - loss: 0.2712 - accuracy: 0.9136 - val_loss: 0.4466 - val_accuracy: 0.8552 - 334ms/epoch - 20ms/step\n",
      "Epoch 29/200\n",
      "17/17 - 0s - loss: 0.2569 - accuracy: 0.9275 - val_loss: 0.4370 - val_accuracy: 0.8565 - 330ms/epoch - 19ms/step\n",
      "Epoch 30/200\n",
      "17/17 - 0s - loss: 0.2573 - accuracy: 0.9275 - val_loss: 0.4309 - val_accuracy: 0.8593 - 343ms/epoch - 20ms/step\n",
      "Epoch 31/200\n",
      "17/17 - 0s - loss: 0.2523 - accuracy: 0.9229 - val_loss: 0.4180 - val_accuracy: 0.8663 - 334ms/epoch - 20ms/step\n",
      "Epoch 32/200\n",
      "17/17 - 0s - loss: 0.2574 - accuracy: 0.9201 - val_loss: 0.4009 - val_accuracy: 0.8760 - 326ms/epoch - 19ms/step\n",
      "Epoch 33/200\n",
      "17/17 - 0s - loss: 0.2479 - accuracy: 0.9266 - val_loss: 0.3860 - val_accuracy: 0.8802 - 345ms/epoch - 20ms/step\n",
      "Epoch 34/200\n",
      "17/17 - 0s - loss: 0.2467 - accuracy: 0.9284 - val_loss: 0.3812 - val_accuracy: 0.8802 - 325ms/epoch - 19ms/step\n",
      "Epoch 35/200\n",
      "17/17 - 0s - loss: 0.2517 - accuracy: 0.9247 - val_loss: 0.3630 - val_accuracy: 0.8858 - 324ms/epoch - 19ms/step\n",
      "Epoch 36/200\n",
      "17/17 - 0s - loss: 0.2453 - accuracy: 0.9247 - val_loss: 0.3563 - val_accuracy: 0.8872 - 339ms/epoch - 20ms/step\n",
      "Epoch 37/200\n",
      "17/17 - 0s - loss: 0.2396 - accuracy: 0.9331 - val_loss: 0.3452 - val_accuracy: 0.8914 - 331ms/epoch - 19ms/step\n",
      "Epoch 38/200\n",
      "17/17 - 0s - loss: 0.2394 - accuracy: 0.9266 - val_loss: 0.3294 - val_accuracy: 0.8928 - 328ms/epoch - 19ms/step\n",
      "Epoch 39/200\n",
      "17/17 - 0s - loss: 0.2338 - accuracy: 0.9312 - val_loss: 0.3154 - val_accuracy: 0.8969 - 334ms/epoch - 20ms/step\n",
      "Epoch 40/200\n",
      "17/17 - 0s - loss: 0.2368 - accuracy: 0.9275 - val_loss: 0.3120 - val_accuracy: 0.8997 - 323ms/epoch - 19ms/step\n",
      "Epoch 41/200\n",
      "17/17 - 0s - loss: 0.2416 - accuracy: 0.9266 - val_loss: 0.2992 - val_accuracy: 0.9039 - 355ms/epoch - 21ms/step\n",
      "Epoch 42/200\n",
      "17/17 - 0s - loss: 0.2296 - accuracy: 0.9312 - val_loss: 0.3024 - val_accuracy: 0.9039 - 344ms/epoch - 20ms/step\n",
      "Epoch 43/200\n",
      "17/17 - 0s - loss: 0.2283 - accuracy: 0.9340 - val_loss: 0.2865 - val_accuracy: 0.9053 - 360ms/epoch - 21ms/step\n",
      "Epoch 44/200\n",
      "17/17 - 0s - loss: 0.2297 - accuracy: 0.9275 - val_loss: 0.2811 - val_accuracy: 0.9067 - 351ms/epoch - 21ms/step\n",
      "Epoch 45/200\n",
      "17/17 - 0s - loss: 0.2270 - accuracy: 0.9340 - val_loss: 0.2829 - val_accuracy: 0.9095 - 354ms/epoch - 21ms/step\n",
      "Epoch 46/200\n",
      "17/17 - 0s - loss: 0.2237 - accuracy: 0.9312 - val_loss: 0.2810 - val_accuracy: 0.9081 - 337ms/epoch - 20ms/step\n",
      "Epoch 47/200\n",
      "17/17 - 0s - loss: 0.2228 - accuracy: 0.9294 - val_loss: 0.2796 - val_accuracy: 0.9123 - 315ms/epoch - 19ms/step\n",
      "Epoch 48/200\n",
      "17/17 - 0s - loss: 0.2278 - accuracy: 0.9359 - val_loss: 0.2640 - val_accuracy: 0.9136 - 338ms/epoch - 20ms/step\n",
      "Epoch 49/200\n",
      "17/17 - 0s - loss: 0.2162 - accuracy: 0.9349 - val_loss: 0.2584 - val_accuracy: 0.9123 - 337ms/epoch - 20ms/step\n",
      "Epoch 50/200\n",
      "17/17 - 0s - loss: 0.2207 - accuracy: 0.9340 - val_loss: 0.2529 - val_accuracy: 0.9109 - 326ms/epoch - 19ms/step\n",
      "Epoch 51/200\n",
      "17/17 - 0s - loss: 0.2208 - accuracy: 0.9349 - val_loss: 0.2505 - val_accuracy: 0.9150 - 335ms/epoch - 20ms/step\n",
      "Epoch 52/200\n",
      "17/17 - 0s - loss: 0.2149 - accuracy: 0.9377 - val_loss: 0.2537 - val_accuracy: 0.9150 - 325ms/epoch - 19ms/step\n",
      "Epoch 53/200\n",
      "17/17 - 0s - loss: 0.2134 - accuracy: 0.9340 - val_loss: 0.2479 - val_accuracy: 0.9164 - 329ms/epoch - 19ms/step\n",
      "Epoch 54/200\n",
      "17/17 - 0s - loss: 0.2111 - accuracy: 0.9377 - val_loss: 0.2454 - val_accuracy: 0.9178 - 346ms/epoch - 20ms/step\n",
      "Epoch 55/200\n",
      "17/17 - 0s - loss: 0.2216 - accuracy: 0.9322 - val_loss: 0.2380 - val_accuracy: 0.9206 - 342ms/epoch - 20ms/step\n",
      "Epoch 56/200\n",
      "17/17 - 0s - loss: 0.2083 - accuracy: 0.9368 - val_loss: 0.2331 - val_accuracy: 0.9150 - 352ms/epoch - 21ms/step\n",
      "Epoch 57/200\n",
      "17/17 - 0s - loss: 0.2070 - accuracy: 0.9414 - val_loss: 0.2313 - val_accuracy: 0.9206 - 343ms/epoch - 20ms/step\n",
      "Epoch 58/200\n",
      "17/17 - 0s - loss: 0.2208 - accuracy: 0.9340 - val_loss: 0.2352 - val_accuracy: 0.9220 - 330ms/epoch - 19ms/step\n",
      "Epoch 59/200\n",
      "17/17 - 0s - loss: 0.2029 - accuracy: 0.9387 - val_loss: 0.2280 - val_accuracy: 0.9234 - 345ms/epoch - 20ms/step\n",
      "Epoch 60/200\n",
      "17/17 - 0s - loss: 0.2111 - accuracy: 0.9340 - val_loss: 0.2265 - val_accuracy: 0.9234 - 352ms/epoch - 21ms/step\n",
      "Epoch 61/200\n",
      "17/17 - 0s - loss: 0.2039 - accuracy: 0.9368 - val_loss: 0.2332 - val_accuracy: 0.9206 - 331ms/epoch - 19ms/step\n",
      "Epoch 62/200\n",
      "17/17 - 0s - loss: 0.2008 - accuracy: 0.9405 - val_loss: 0.2318 - val_accuracy: 0.9234 - 341ms/epoch - 20ms/step\n",
      "Epoch 63/200\n",
      "17/17 - 0s - loss: 0.2039 - accuracy: 0.9377 - val_loss: 0.2198 - val_accuracy: 0.9276 - 323ms/epoch - 19ms/step\n",
      "Epoch 64/200\n",
      "17/17 - 0s - loss: 0.2006 - accuracy: 0.9424 - val_loss: 0.2250 - val_accuracy: 0.9234 - 340ms/epoch - 20ms/step\n",
      "Epoch 65/200\n",
      "17/17 - 0s - loss: 0.2031 - accuracy: 0.9377 - val_loss: 0.2281 - val_accuracy: 0.9248 - 315ms/epoch - 19ms/step\n",
      "Epoch 66/200\n",
      "17/17 - 0s - loss: 0.2006 - accuracy: 0.9405 - val_loss: 0.2227 - val_accuracy: 0.9276 - 333ms/epoch - 20ms/step\n",
      "Epoch 67/200\n",
      "17/17 - 0s - loss: 0.1962 - accuracy: 0.9414 - val_loss: 0.2205 - val_accuracy: 0.9262 - 319ms/epoch - 19ms/step\n",
      "Epoch 68/200\n",
      "17/17 - 0s - loss: 0.2011 - accuracy: 0.9396 - val_loss: 0.2140 - val_accuracy: 0.9262 - 324ms/epoch - 19ms/step\n",
      "Epoch 69/200\n",
      "17/17 - 0s - loss: 0.1961 - accuracy: 0.9377 - val_loss: 0.2143 - val_accuracy: 0.9276 - 318ms/epoch - 19ms/step\n",
      "Epoch 70/200\n",
      "17/17 - 0s - loss: 0.1953 - accuracy: 0.9387 - val_loss: 0.2189 - val_accuracy: 0.9276 - 367ms/epoch - 22ms/step\n",
      "Epoch 71/200\n",
      "17/17 - 0s - loss: 0.1887 - accuracy: 0.9424 - val_loss: 0.2126 - val_accuracy: 0.9290 - 358ms/epoch - 21ms/step\n",
      "Epoch 72/200\n",
      "17/17 - 0s - loss: 0.1941 - accuracy: 0.9387 - val_loss: 0.2166 - val_accuracy: 0.9276 - 341ms/epoch - 20ms/step\n",
      "Epoch 73/200\n",
      "17/17 - 0s - loss: 0.1969 - accuracy: 0.9387 - val_loss: 0.2199 - val_accuracy: 0.9290 - 352ms/epoch - 21ms/step\n",
      "Epoch 74/200\n",
      "17/17 - 0s - loss: 0.1927 - accuracy: 0.9396 - val_loss: 0.2118 - val_accuracy: 0.9304 - 347ms/epoch - 20ms/step\n",
      "Epoch 75/200\n",
      "17/17 - 0s - loss: 0.1904 - accuracy: 0.9387 - val_loss: 0.2099 - val_accuracy: 0.9318 - 340ms/epoch - 20ms/step\n",
      "Epoch 76/200\n",
      "17/17 - 0s - loss: 0.1958 - accuracy: 0.9359 - val_loss: 0.2055 - val_accuracy: 0.9331 - 342ms/epoch - 20ms/step\n",
      "Epoch 77/200\n",
      "17/17 - 0s - loss: 0.1827 - accuracy: 0.9433 - val_loss: 0.2085 - val_accuracy: 0.9290 - 322ms/epoch - 19ms/step\n",
      "Epoch 78/200\n",
      "17/17 - 0s - loss: 0.1929 - accuracy: 0.9396 - val_loss: 0.2079 - val_accuracy: 0.9304 - 372ms/epoch - 22ms/step\n",
      "Epoch 79/200\n",
      "17/17 - 0s - loss: 0.1933 - accuracy: 0.9424 - val_loss: 0.2066 - val_accuracy: 0.9331 - 351ms/epoch - 21ms/step\n",
      "Epoch 80/200\n",
      "17/17 - 0s - loss: 0.1881 - accuracy: 0.9433 - val_loss: 0.2027 - val_accuracy: 0.9331 - 343ms/epoch - 20ms/step\n",
      "Epoch 81/200\n",
      "17/17 - 0s - loss: 0.1861 - accuracy: 0.9433 - val_loss: 0.2027 - val_accuracy: 0.9345 - 349ms/epoch - 21ms/step\n",
      "Epoch 82/200\n",
      "17/17 - 0s - loss: 0.1914 - accuracy: 0.9424 - val_loss: 0.2069 - val_accuracy: 0.9318 - 344ms/epoch - 20ms/step\n",
      "Epoch 83/200\n",
      "17/17 - 0s - loss: 0.1834 - accuracy: 0.9498 - val_loss: 0.1992 - val_accuracy: 0.9373 - 351ms/epoch - 21ms/step\n",
      "Epoch 84/200\n",
      "17/17 - 0s - loss: 0.1857 - accuracy: 0.9396 - val_loss: 0.1972 - val_accuracy: 0.9373 - 334ms/epoch - 20ms/step\n",
      "Epoch 85/200\n",
      "17/17 - 0s - loss: 0.1871 - accuracy: 0.9387 - val_loss: 0.1982 - val_accuracy: 0.9373 - 368ms/epoch - 22ms/step\n",
      "Epoch 86/200\n",
      "17/17 - 0s - loss: 0.1772 - accuracy: 0.9470 - val_loss: 0.1974 - val_accuracy: 0.9387 - 331ms/epoch - 19ms/step\n",
      "Epoch 87/200\n",
      "17/17 - 0s - loss: 0.1818 - accuracy: 0.9461 - val_loss: 0.1979 - val_accuracy: 0.9387 - 322ms/epoch - 19ms/step\n",
      "Epoch 88/200\n",
      "17/17 - 0s - loss: 0.1831 - accuracy: 0.9433 - val_loss: 0.1949 - val_accuracy: 0.9387 - 327ms/epoch - 19ms/step\n",
      "Epoch 89/200\n",
      "17/17 - 0s - loss: 0.1822 - accuracy: 0.9433 - val_loss: 0.1980 - val_accuracy: 0.9387 - 342ms/epoch - 20ms/step\n",
      "Epoch 90/200\n",
      "17/17 - 0s - loss: 0.1744 - accuracy: 0.9470 - val_loss: 0.1945 - val_accuracy: 0.9387 - 320ms/epoch - 19ms/step\n",
      "Epoch 91/200\n",
      "17/17 - 0s - loss: 0.1853 - accuracy: 0.9387 - val_loss: 0.2061 - val_accuracy: 0.9331 - 335ms/epoch - 20ms/step\n",
      "Epoch 92/200\n",
      "17/17 - 0s - loss: 0.1748 - accuracy: 0.9526 - val_loss: 0.1897 - val_accuracy: 0.9387 - 327ms/epoch - 19ms/step\n",
      "Epoch 93/200\n",
      "17/17 - 0s - loss: 0.1776 - accuracy: 0.9461 - val_loss: 0.1885 - val_accuracy: 0.9387 - 330ms/epoch - 19ms/step\n",
      "Epoch 94/200\n",
      "17/17 - 0s - loss: 0.1755 - accuracy: 0.9489 - val_loss: 0.1865 - val_accuracy: 0.9429 - 336ms/epoch - 20ms/step\n",
      "Epoch 95/200\n",
      "17/17 - 0s - loss: 0.1733 - accuracy: 0.9452 - val_loss: 0.1969 - val_accuracy: 0.9387 - 338ms/epoch - 20ms/step\n",
      "Epoch 96/200\n",
      "17/17 - 0s - loss: 0.1694 - accuracy: 0.9480 - val_loss: 0.1860 - val_accuracy: 0.9443 - 311ms/epoch - 18ms/step\n",
      "Epoch 97/200\n",
      "17/17 - 0s - loss: 0.1710 - accuracy: 0.9489 - val_loss: 0.1904 - val_accuracy: 0.9387 - 329ms/epoch - 19ms/step\n",
      "Epoch 98/200\n",
      "17/17 - 0s - loss: 0.1744 - accuracy: 0.9442 - val_loss: 0.1854 - val_accuracy: 0.9429 - 309ms/epoch - 18ms/step\n",
      "Epoch 99/200\n",
      "17/17 - 0s - loss: 0.1762 - accuracy: 0.9461 - val_loss: 0.1897 - val_accuracy: 0.9429 - 342ms/epoch - 20ms/step\n",
      "Epoch 100/200\n",
      "17/17 - 0s - loss: 0.1780 - accuracy: 0.9480 - val_loss: 0.1810 - val_accuracy: 0.9471 - 341ms/epoch - 20ms/step\n",
      "Epoch 101/200\n",
      "17/17 - 0s - loss: 0.1804 - accuracy: 0.9442 - val_loss: 0.1883 - val_accuracy: 0.9387 - 326ms/epoch - 19ms/step\n",
      "Epoch 102/200\n",
      "17/17 - 0s - loss: 0.1669 - accuracy: 0.9526 - val_loss: 0.1874 - val_accuracy: 0.9415 - 317ms/epoch - 19ms/step\n",
      "Epoch 103/200\n",
      "17/17 - 0s - loss: 0.1721 - accuracy: 0.9480 - val_loss: 0.1786 - val_accuracy: 0.9471 - 343ms/epoch - 20ms/step\n",
      "Epoch 104/200\n",
      "17/17 - 0s - loss: 0.1682 - accuracy: 0.9442 - val_loss: 0.1822 - val_accuracy: 0.9443 - 334ms/epoch - 20ms/step\n",
      "Epoch 105/200\n",
      "17/17 - 0s - loss: 0.1638 - accuracy: 0.9498 - val_loss: 0.1810 - val_accuracy: 0.9443 - 331ms/epoch - 19ms/step\n",
      "Epoch 106/200\n",
      "17/17 - 0s - loss: 0.1715 - accuracy: 0.9461 - val_loss: 0.1852 - val_accuracy: 0.9471 - 323ms/epoch - 19ms/step\n",
      "Epoch 107/200\n",
      "17/17 - 0s - loss: 0.1678 - accuracy: 0.9517 - val_loss: 0.1834 - val_accuracy: 0.9471 - 337ms/epoch - 20ms/step\n",
      "Epoch 108/200\n",
      "17/17 - 0s - loss: 0.1686 - accuracy: 0.9498 - val_loss: 0.1870 - val_accuracy: 0.9401 - 317ms/epoch - 19ms/step\n",
      "Epoch 109/200\n",
      "17/17 - 0s - loss: 0.1720 - accuracy: 0.9517 - val_loss: 0.1822 - val_accuracy: 0.9443 - 341ms/epoch - 20ms/step\n",
      "Epoch 110/200\n",
      "17/17 - 0s - loss: 0.1756 - accuracy: 0.9452 - val_loss: 0.1767 - val_accuracy: 0.9471 - 323ms/epoch - 19ms/step\n",
      "Epoch 111/200\n",
      "17/17 - 0s - loss: 0.1614 - accuracy: 0.9526 - val_loss: 0.1866 - val_accuracy: 0.9471 - 334ms/epoch - 20ms/step\n",
      "Epoch 112/200\n",
      "17/17 - 0s - loss: 0.1607 - accuracy: 0.9498 - val_loss: 0.1832 - val_accuracy: 0.9457 - 329ms/epoch - 19ms/step\n",
      "Epoch 113/200\n",
      "17/17 - 0s - loss: 0.1665 - accuracy: 0.9489 - val_loss: 0.1799 - val_accuracy: 0.9471 - 342ms/epoch - 20ms/step\n",
      "Epoch 114/200\n",
      "17/17 - 0s - loss: 0.1690 - accuracy: 0.9517 - val_loss: 0.1740 - val_accuracy: 0.9471 - 331ms/epoch - 19ms/step\n",
      "Epoch 115/200\n",
      "17/17 - 0s - loss: 0.1629 - accuracy: 0.9526 - val_loss: 0.1745 - val_accuracy: 0.9471 - 353ms/epoch - 21ms/step\n",
      "Epoch 116/200\n",
      "17/17 - 0s - loss: 0.1606 - accuracy: 0.9535 - val_loss: 0.1696 - val_accuracy: 0.9471 - 324ms/epoch - 19ms/step\n",
      "Epoch 117/200\n",
      "17/17 - 0s - loss: 0.1641 - accuracy: 0.9489 - val_loss: 0.1741 - val_accuracy: 0.9471 - 334ms/epoch - 20ms/step\n",
      "Epoch 118/200\n",
      "17/17 - 0s - loss: 0.1678 - accuracy: 0.9489 - val_loss: 0.1746 - val_accuracy: 0.9471 - 339ms/epoch - 20ms/step\n",
      "Epoch 119/200\n",
      "17/17 - 0s - loss: 0.1552 - accuracy: 0.9554 - val_loss: 0.1709 - val_accuracy: 0.9471 - 332ms/epoch - 20ms/step\n",
      "Epoch 120/200\n",
      "17/17 - 0s - loss: 0.1641 - accuracy: 0.9526 - val_loss: 0.1741 - val_accuracy: 0.9471 - 326ms/epoch - 19ms/step\n",
      "Epoch 121/200\n",
      "17/17 - 0s - loss: 0.1573 - accuracy: 0.9507 - val_loss: 0.1651 - val_accuracy: 0.9485 - 337ms/epoch - 20ms/step\n",
      "Epoch 122/200\n",
      "17/17 - 0s - loss: 0.1574 - accuracy: 0.9554 - val_loss: 0.1693 - val_accuracy: 0.9471 - 325ms/epoch - 19ms/step\n",
      "Epoch 123/200\n",
      "17/17 - 0s - loss: 0.1601 - accuracy: 0.9498 - val_loss: 0.1716 - val_accuracy: 0.9499 - 322ms/epoch - 19ms/step\n",
      "Epoch 124/200\n",
      "17/17 - 0s - loss: 0.1567 - accuracy: 0.9526 - val_loss: 0.1700 - val_accuracy: 0.9471 - 318ms/epoch - 19ms/step\n",
      "Epoch 125/200\n",
      "17/17 - 0s - loss: 0.1569 - accuracy: 0.9545 - val_loss: 0.1686 - val_accuracy: 0.9485 - 321ms/epoch - 19ms/step\n",
      "Epoch 126/200\n",
      "17/17 - 0s - loss: 0.1597 - accuracy: 0.9535 - val_loss: 0.1747 - val_accuracy: 0.9485 - 325ms/epoch - 19ms/step\n",
      "Epoch 127/200\n",
      "17/17 - 0s - loss: 0.1559 - accuracy: 0.9526 - val_loss: 0.1685 - val_accuracy: 0.9485 - 321ms/epoch - 19ms/step\n",
      "Epoch 128/200\n",
      "17/17 - 0s - loss: 0.1620 - accuracy: 0.9535 - val_loss: 0.1657 - val_accuracy: 0.9485 - 325ms/epoch - 19ms/step\n",
      "Epoch 129/200\n",
      "17/17 - 0s - loss: 0.1570 - accuracy: 0.9526 - val_loss: 0.1698 - val_accuracy: 0.9471 - 326ms/epoch - 19ms/step\n",
      "Epoch 130/200\n",
      "17/17 - 0s - loss: 0.1523 - accuracy: 0.9535 - val_loss: 0.1704 - val_accuracy: 0.9485 - 354ms/epoch - 21ms/step\n",
      "Epoch 131/200\n",
      "17/17 - 0s - loss: 0.1640 - accuracy: 0.9480 - val_loss: 0.1629 - val_accuracy: 0.9499 - 331ms/epoch - 19ms/step\n",
      "Epoch 132/200\n",
      "17/17 - 0s - loss: 0.1576 - accuracy: 0.9498 - val_loss: 0.1623 - val_accuracy: 0.9485 - 326ms/epoch - 19ms/step\n",
      "Epoch 133/200\n",
      "17/17 - 0s - loss: 0.1531 - accuracy: 0.9545 - val_loss: 0.1701 - val_accuracy: 0.9499 - 335ms/epoch - 20ms/step\n",
      "Epoch 134/200\n",
      "17/17 - 0s - loss: 0.1649 - accuracy: 0.9572 - val_loss: 0.1630 - val_accuracy: 0.9499 - 331ms/epoch - 19ms/step\n",
      "Epoch 135/200\n",
      "17/17 - 0s - loss: 0.1561 - accuracy: 0.9582 - val_loss: 0.1679 - val_accuracy: 0.9485 - 325ms/epoch - 19ms/step\n",
      "Epoch 136/200\n",
      "17/17 - 0s - loss: 0.1517 - accuracy: 0.9610 - val_loss: 0.1611 - val_accuracy: 0.9499 - 328ms/epoch - 19ms/step\n",
      "Epoch 137/200\n",
      "17/17 - 0s - loss: 0.1574 - accuracy: 0.9526 - val_loss: 0.1642 - val_accuracy: 0.9499 - 315ms/epoch - 19ms/step\n",
      "Epoch 138/200\n",
      "17/17 - 0s - loss: 0.1527 - accuracy: 0.9563 - val_loss: 0.1622 - val_accuracy: 0.9540 - 320ms/epoch - 19ms/step\n",
      "Epoch 139/200\n",
      "17/17 - 0s - loss: 0.1520 - accuracy: 0.9582 - val_loss: 0.1626 - val_accuracy: 0.9513 - 338ms/epoch - 20ms/step\n",
      "Epoch 140/200\n",
      "17/17 - 0s - loss: 0.1497 - accuracy: 0.9600 - val_loss: 0.1611 - val_accuracy: 0.9499 - 329ms/epoch - 19ms/step\n",
      "Epoch 141/200\n",
      "17/17 - 0s - loss: 0.1545 - accuracy: 0.9545 - val_loss: 0.1630 - val_accuracy: 0.9499 - 314ms/epoch - 18ms/step\n",
      "Epoch 142/200\n",
      "17/17 - 0s - loss: 0.1480 - accuracy: 0.9582 - val_loss: 0.1583 - val_accuracy: 0.9526 - 318ms/epoch - 19ms/step\n",
      "Epoch 143/200\n",
      "17/17 - 0s - loss: 0.1503 - accuracy: 0.9628 - val_loss: 0.1532 - val_accuracy: 0.9540 - 335ms/epoch - 20ms/step\n",
      "Epoch 144/200\n",
      "17/17 - 0s - loss: 0.1461 - accuracy: 0.9591 - val_loss: 0.1550 - val_accuracy: 0.9526 - 322ms/epoch - 19ms/step\n",
      "Epoch 145/200\n",
      "17/17 - 0s - loss: 0.1544 - accuracy: 0.9582 - val_loss: 0.1540 - val_accuracy: 0.9540 - 337ms/epoch - 20ms/step\n",
      "Epoch 146/200\n",
      "17/17 - 0s - loss: 0.1485 - accuracy: 0.9563 - val_loss: 0.1561 - val_accuracy: 0.9540 - 319ms/epoch - 19ms/step\n",
      "Epoch 147/200\n",
      "17/17 - 0s - loss: 0.1541 - accuracy: 0.9554 - val_loss: 0.1604 - val_accuracy: 0.9499 - 309ms/epoch - 18ms/step\n",
      "Epoch 148/200\n",
      "17/17 - 0s - loss: 0.1514 - accuracy: 0.9582 - val_loss: 0.1568 - val_accuracy: 0.9554 - 340ms/epoch - 20ms/step\n",
      "Epoch 149/200\n",
      "17/17 - 0s - loss: 0.1424 - accuracy: 0.9610 - val_loss: 0.1549 - val_accuracy: 0.9540 - 348ms/epoch - 20ms/step\n",
      "Epoch 150/200\n",
      "17/17 - 0s - loss: 0.1506 - accuracy: 0.9582 - val_loss: 0.1523 - val_accuracy: 0.9540 - 334ms/epoch - 20ms/step\n",
      "Epoch 151/200\n",
      "17/17 - 0s - loss: 0.1541 - accuracy: 0.9582 - val_loss: 0.1490 - val_accuracy: 0.9554 - 331ms/epoch - 19ms/step\n",
      "Epoch 152/200\n",
      "17/17 - 0s - loss: 0.1465 - accuracy: 0.9600 - val_loss: 0.1543 - val_accuracy: 0.9568 - 317ms/epoch - 19ms/step\n",
      "Epoch 153/200\n",
      "17/17 - 0s - loss: 0.1563 - accuracy: 0.9554 - val_loss: 0.1535 - val_accuracy: 0.9554 - 320ms/epoch - 19ms/step\n",
      "Epoch 154/200\n",
      "17/17 - 0s - loss: 0.1509 - accuracy: 0.9600 - val_loss: 0.1531 - val_accuracy: 0.9540 - 340ms/epoch - 20ms/step\n",
      "Epoch 155/200\n",
      "17/17 - 0s - loss: 0.1482 - accuracy: 0.9582 - val_loss: 0.1519 - val_accuracy: 0.9540 - 323ms/epoch - 19ms/step\n",
      "Epoch 156/200\n",
      "17/17 - 0s - loss: 0.1469 - accuracy: 0.9600 - val_loss: 0.1554 - val_accuracy: 0.9540 - 316ms/epoch - 19ms/step\n",
      "Epoch 157/200\n",
      "17/17 - 0s - loss: 0.1478 - accuracy: 0.9554 - val_loss: 0.1566 - val_accuracy: 0.9513 - 317ms/epoch - 19ms/step\n",
      "Epoch 158/200\n",
      "17/17 - 0s - loss: 0.1441 - accuracy: 0.9582 - val_loss: 0.1491 - val_accuracy: 0.9540 - 341ms/epoch - 20ms/step\n",
      "Epoch 159/200\n",
      "17/17 - 0s - loss: 0.1485 - accuracy: 0.9582 - val_loss: 0.1543 - val_accuracy: 0.9540 - 339ms/epoch - 20ms/step\n",
      "Epoch 160/200\n",
      "17/17 - 0s - loss: 0.1435 - accuracy: 0.9610 - val_loss: 0.1491 - val_accuracy: 0.9554 - 358ms/epoch - 21ms/step\n",
      "Epoch 161/200\n",
      "17/17 - 0s - loss: 0.1458 - accuracy: 0.9591 - val_loss: 0.1469 - val_accuracy: 0.9554 - 319ms/epoch - 19ms/step\n",
      "Epoch 162/200\n",
      "17/17 - 0s - loss: 0.1453 - accuracy: 0.9600 - val_loss: 0.1473 - val_accuracy: 0.9554 - 339ms/epoch - 20ms/step\n",
      "Epoch 163/200\n",
      "17/17 - 0s - loss: 0.1506 - accuracy: 0.9591 - val_loss: 0.1508 - val_accuracy: 0.9568 - 322ms/epoch - 19ms/step\n",
      "Epoch 164/200\n",
      "17/17 - 0s - loss: 0.1447 - accuracy: 0.9600 - val_loss: 0.1458 - val_accuracy: 0.9554 - 347ms/epoch - 20ms/step\n",
      "Epoch 165/200\n",
      "17/17 - 0s - loss: 0.1415 - accuracy: 0.9647 - val_loss: 0.1408 - val_accuracy: 0.9582 - 333ms/epoch - 20ms/step\n",
      "Epoch 166/200\n",
      "17/17 - 0s - loss: 0.1444 - accuracy: 0.9600 - val_loss: 0.1459 - val_accuracy: 0.9554 - 346ms/epoch - 20ms/step\n",
      "Epoch 167/200\n",
      "17/17 - 0s - loss: 0.1487 - accuracy: 0.9628 - val_loss: 0.1427 - val_accuracy: 0.9610 - 332ms/epoch - 20ms/step\n",
      "Epoch 168/200\n",
      "17/17 - 0s - loss: 0.1579 - accuracy: 0.9600 - val_loss: 0.1406 - val_accuracy: 0.9582 - 332ms/epoch - 20ms/step\n",
      "Epoch 169/200\n",
      "17/17 - 0s - loss: 0.1453 - accuracy: 0.9591 - val_loss: 0.1452 - val_accuracy: 0.9582 - 333ms/epoch - 20ms/step\n",
      "Epoch 170/200\n",
      "17/17 - 0s - loss: 0.1431 - accuracy: 0.9610 - val_loss: 0.1464 - val_accuracy: 0.9554 - 330ms/epoch - 19ms/step\n",
      "Epoch 171/200\n",
      "17/17 - 0s - loss: 0.1466 - accuracy: 0.9619 - val_loss: 0.1423 - val_accuracy: 0.9568 - 320ms/epoch - 19ms/step\n",
      "Epoch 172/200\n",
      "17/17 - 0s - loss: 0.1371 - accuracy: 0.9610 - val_loss: 0.1438 - val_accuracy: 0.9596 - 314ms/epoch - 18ms/step\n",
      "Epoch 173/200\n",
      "17/17 - 0s - loss: 0.1404 - accuracy: 0.9638 - val_loss: 0.1396 - val_accuracy: 0.9568 - 318ms/epoch - 19ms/step\n",
      "Epoch 174/200\n",
      "17/17 - 0s - loss: 0.1466 - accuracy: 0.9591 - val_loss: 0.1448 - val_accuracy: 0.9568 - 339ms/epoch - 20ms/step\n",
      "Epoch 175/200\n",
      "17/17 - 0s - loss: 0.1471 - accuracy: 0.9554 - val_loss: 0.1452 - val_accuracy: 0.9582 - 348ms/epoch - 20ms/step\n",
      "Epoch 176/200\n",
      "17/17 - 0s - loss: 0.1367 - accuracy: 0.9665 - val_loss: 0.1392 - val_accuracy: 0.9596 - 324ms/epoch - 19ms/step\n",
      "Epoch 177/200\n",
      "17/17 - 0s - loss: 0.1458 - accuracy: 0.9563 - val_loss: 0.1397 - val_accuracy: 0.9596 - 327ms/epoch - 19ms/step\n",
      "Epoch 178/200\n",
      "17/17 - 0s - loss: 0.1404 - accuracy: 0.9656 - val_loss: 0.1426 - val_accuracy: 0.9568 - 351ms/epoch - 21ms/step\n",
      "Epoch 179/200\n",
      "17/17 - 0s - loss: 0.1342 - accuracy: 0.9647 - val_loss: 0.1441 - val_accuracy: 0.9568 - 335ms/epoch - 20ms/step\n",
      "Epoch 180/200\n",
      "17/17 - 0s - loss: 0.1371 - accuracy: 0.9665 - val_loss: 0.1399 - val_accuracy: 0.9596 - 317ms/epoch - 19ms/step\n",
      "Epoch 181/200\n",
      "17/17 - 0s - loss: 0.1423 - accuracy: 0.9610 - val_loss: 0.1366 - val_accuracy: 0.9596 - 332ms/epoch - 20ms/step\n",
      "Epoch 182/200\n",
      "17/17 - 0s - loss: 0.1388 - accuracy: 0.9619 - val_loss: 0.1385 - val_accuracy: 0.9568 - 329ms/epoch - 19ms/step\n",
      "Epoch 183/200\n",
      "17/17 - 0s - loss: 0.1348 - accuracy: 0.9517 - val_loss: 0.1447 - val_accuracy: 0.9568 - 332ms/epoch - 20ms/step\n",
      "Epoch 184/200\n",
      "17/17 - 0s - loss: 0.1372 - accuracy: 0.9638 - val_loss: 0.1400 - val_accuracy: 0.9568 - 331ms/epoch - 19ms/step\n",
      "Epoch 185/200\n",
      "17/17 - 0s - loss: 0.1451 - accuracy: 0.9619 - val_loss: 0.1411 - val_accuracy: 0.9582 - 320ms/epoch - 19ms/step\n",
      "Epoch 186/200\n",
      "17/17 - 0s - loss: 0.1388 - accuracy: 0.9619 - val_loss: 0.1399 - val_accuracy: 0.9596 - 327ms/epoch - 19ms/step\n",
      "Epoch 187/200\n",
      "17/17 - 0s - loss: 0.1320 - accuracy: 0.9656 - val_loss: 0.1351 - val_accuracy: 0.9596 - 374ms/epoch - 22ms/step\n",
      "Epoch 188/200\n",
      "17/17 - 0s - loss: 0.1358 - accuracy: 0.9675 - val_loss: 0.1403 - val_accuracy: 0.9596 - 327ms/epoch - 19ms/step\n",
      "Epoch 189/200\n",
      "17/17 - 0s - loss: 0.1339 - accuracy: 0.9628 - val_loss: 0.1354 - val_accuracy: 0.9624 - 363ms/epoch - 21ms/step\n",
      "Epoch 190/200\n",
      "17/17 - 0s - loss: 0.1373 - accuracy: 0.9638 - val_loss: 0.1429 - val_accuracy: 0.9596 - 352ms/epoch - 21ms/step\n",
      "Epoch 191/200\n",
      "17/17 - 0s - loss: 0.1388 - accuracy: 0.9619 - val_loss: 0.1348 - val_accuracy: 0.9638 - 348ms/epoch - 20ms/step\n",
      "Epoch 192/200\n",
      "17/17 - 0s - loss: 0.1408 - accuracy: 0.9610 - val_loss: 0.1375 - val_accuracy: 0.9596 - 340ms/epoch - 20ms/step\n",
      "Epoch 193/200\n",
      "17/17 - 0s - loss: 0.1402 - accuracy: 0.9647 - val_loss: 0.1354 - val_accuracy: 0.9624 - 365ms/epoch - 21ms/step\n",
      "Epoch 194/200\n",
      "17/17 - 0s - loss: 0.1324 - accuracy: 0.9619 - val_loss: 0.1332 - val_accuracy: 0.9610 - 354ms/epoch - 21ms/step\n",
      "Epoch 195/200\n",
      "17/17 - 0s - loss: 0.1327 - accuracy: 0.9675 - val_loss: 0.1371 - val_accuracy: 0.9596 - 338ms/epoch - 20ms/step\n",
      "Epoch 196/200\n",
      "17/17 - 0s - loss: 0.1316 - accuracy: 0.9628 - val_loss: 0.1353 - val_accuracy: 0.9624 - 360ms/epoch - 21ms/step\n",
      "Epoch 197/200\n",
      "17/17 - 0s - loss: 0.1373 - accuracy: 0.9638 - val_loss: 0.1284 - val_accuracy: 0.9652 - 329ms/epoch - 19ms/step\n",
      "Epoch 198/200\n",
      "17/17 - 0s - loss: 0.1324 - accuracy: 0.9638 - val_loss: 0.1381 - val_accuracy: 0.9596 - 320ms/epoch - 19ms/step\n",
      "Epoch 199/200\n",
      "17/17 - 0s - loss: 0.1337 - accuracy: 0.9647 - val_loss: 0.1325 - val_accuracy: 0.9610 - 314ms/epoch - 18ms/step\n",
      "Epoch 200/200\n",
      "17/17 - 0s - loss: 0.1377 - accuracy: 0.9610 - val_loss: 0.1279 - val_accuracy: 0.9666 - 351ms/epoch - 21ms/step\n"
     ]
    }
   ],
   "source": [
    "epochs = 200\n",
    "batch_size = 64\n",
    "model.fit(\n",
    "    x,\n",
    "    y,\n",
    "    batch_size=batch_size,\n",
    "    epochs=epochs,\n",
    "    # callbacks=callbacks,\n",
    "    validation_split=0.4,\n",
    "    verbose=2,\n",
    ")\n",
    "history = model.history.history"
   ]
  },
  {
   "cell_type": "code",
   "execution_count": 84,
   "metadata": {},
   "outputs": [
    {
     "data": {
      "image/png": "[encoded data removed]",
      "text/plain": [
       "<Figure size 504x720 with 2 Axes>"
      ]
     },
     "metadata": {
      "needs_background": "light"
     },
     "output_type": "display_data"
    }
   ],
   "source": [
    "plt.figure(figsize=(7, 10))\n",
    "metric = \"accuracy\"\n",
    "plt.subplot(2, 1, 1)\n",
    "plt.plot(history[metric])\n",
    "plt.plot(history[\"val_\" + metric])\n",
    "plt.title(\"model \" + metric)\n",
    "plt.ylabel(metric, fontsize=\"large\")\n",
    "plt.xlabel(\"epoch\", fontsize=\"large\")\n",
    "plt.legend([\"train\", \"val\"], loc=\"best\")\n",
    "\n",
    "plt.subplot(2, 1, 2)\n",
    "metric = \"loss\"\n",
    "plt.plot(history[metric])\n",
    "plt.plot(history[\"val_\" + metric])\n",
    "plt.title(\"model \" + metric)\n",
    "plt.ylabel(metric, fontsize=\"large\")\n",
    "plt.xlabel(\"epoch\", fontsize=\"large\")\n",
    "plt.legend([\"train\", \"val\"], loc=\"best\")\n",
    "plt.show()"
   ]
  },
  {
   "cell_type": "markdown",
   "metadata": {},
   "source": [
    "# Save TFLITE Model"
   ]
  },
  {
   "cell_type": "code",
   "execution_count": 85,
   "metadata": {},
   "outputs": [],
   "source": [
    "# save model weights\n",
    "model.save_weights(\"06_19_weights_noise.h5\")"
   ]
  },
  {
   "cell_type": "code",
   "execution_count": 87,
   "metadata": {},
   "outputs": [
    {
     "name": "stderr",
     "output_type": "stream",
     "text": [
      "WARNING:absl:Found untraced functions such as _jit_compiled_convolution_op, _jit_compiled_convolution_op, _jit_compiled_convolution_op while saving (showing 3 of 3). These functions will not be directly callable after loading.\n"
     ]
    },
    {
     "name": "stdout",
     "output_type": "stream",
     "text": [
      "INFO:tensorflow:Assets written to: C:\\Users\\joonn\\AppData\\Local\\Temp\\tmpauxlk5v8\\assets\n"
     ]
    },
    {
     "name": "stderr",
     "output_type": "stream",
     "text": [
      "INFO:tensorflow:Assets written to: C:\\Users\\joonn\\AppData\\Local\\Temp\\tmpauxlk5v8\\assets\n"
     ]
    }
   ],
   "source": [
    "import tensorflow as tf\n",
    "converter = tf.lite.TFLiteConverter.from_keras_model(model)\n",
    "tflite_model = converter.convert()\n",
    "with open('06_19_model_noise.tflite', 'wb') as f:\n",
    "    f.write(tflite_model)"
   ]
  },
  {
   "cell_type": "markdown",
   "metadata": {},
   "source": [
    "# Inference"
   ]
  },
  {
   "cell_type": "code",
   "execution_count": 33,
   "metadata": {},
   "outputs": [],
   "source": [
    "model = ts_cnn()\n",
    "model.load_weights('06_18_weights.h5')"
   ]
  },
  {
   "cell_type": "code",
   "execution_count": 88,
   "metadata": {},
   "outputs": [],
   "source": [
    "idx = np.random.permutation(len(x))\n",
    "x = x[idx]\n",
    "y = y[idx]"
   ]
  },
  {
   "cell_type": "code",
   "execution_count": 89,
   "metadata": {},
   "outputs": [
    {
     "data": {
      "text/plain": [
       "array([[1., 0.],\n",
       "       [0., 1.],\n",
       "       [0., 1.],\n",
       "       ...,\n",
       "       [0., 1.],\n",
       "       [1., 0.],\n",
       "       [1., 0.]], dtype=float32)"
      ]
     },
     "execution_count": 89,
     "metadata": {},
     "output_type": "execute_result"
    }
   ],
   "source": [
    "print(y[:5]) # see a couple of examples\n",
    "np.argmax(y, axis=1)[:5]    "
   ]
  },
  {
   "cell_type": "code",
   "execution_count": 91,
   "metadata": {},
   "outputs": [
    {
     "name": "stdout",
     "output_type": "stream",
     "text": [
      "positive: 1156\n",
      "negative: 638\n"
     ]
    }
   ],
   "source": [
    "# find how many positive and negative samples are in the dataset\n",
    "print(f'positive: {np.sum(np.argmax(y, axis=1) == 0)}')\n",
    "print(f'negative: {np.sum(np.argmax(y, axis=1) == 1)}')"
   ]
  },
  {
   "cell_type": "code",
   "execution_count": null,
   "metadata": {},
   "outputs": [],
   "source": [
    "# y_val = np.reshape(y, (len(y),))\n",
    "y_val = y.argmax(axis=1)\n",
    "y_pred = np.argmax(model.predict(x),axis=1)\n",
    "\n",
    "# find how many positive and negative samples are in the predicted dataset\n",
    "print(f'positive: {np.sum(y_pred == 0)}')\n",
    "print(f'negative: {np.sum(y_pred == 1)}')"
   ]
  },
  {
   "cell_type": "markdown",
   "metadata": {},
   "source": [
    "## Confusion Matrix"
   ]
  },
  {
   "cell_type": "code",
   "execution_count": null,
   "metadata": {},
   "outputs": [],
   "source": [
    "from sklearn.metrics import confusion_matrix\n",
    "import seaborn as sns\n",
    "#Create confusion matrix and normalizes it over predicted (columns)\n",
    "result = confusion_matrix(y_val, y_pred, labels=[0,1])"
   ]
  },
  {
   "cell_type": "code",
   "execution_count": null,
   "metadata": {},
   "outputs": [],
   "source": [
    "# Matrix without labels\n",
    "ax = sns.heatmap(result/np.sum(result), annot=True, \n",
    "            fmt='.2%', cmap='Blues')\n",
    "\n",
    "ax.set_title('Seaborn Confusion Matrix with labels\\n\\n');\n",
    "ax.set_xlabel('\\nPredicted Incidents')\n",
    "ax.set_ylabel('Actual Incidents ');\n",
    "\n",
    "## Ticket labels - List must be in alphabetical order\n",
    "ax.xaxis.set_ticklabels(['False','True'])\n",
    "ax.yaxis.set_ticklabels(['False','True'])\n",
    "\n",
    "## Display the visualization of the Confusion Matrix.\n",
    "plt.show()\n"
   ]
  },
  {
   "cell_type": "code",
   "execution_count": null,
   "metadata": {},
   "outputs": [],
   "source": [
    "# Matrix with labels\n",
    "group_names = ['No Incident','False Pred Incident','False Pred No Inceint','Incident']\n",
    "group_counts = [\"{0:0.0f}\".format(value) for value in result.flatten()]\n",
    "group_percentages = [\"{0:.2%}\".format(value) for value in result.flatten()/np.sum(result)]\n",
    "\n",
    "labels = [f\"{v1}\\n{v2}\\n{v3}\" for v1, v2, v3 in zip(group_names,group_counts,group_percentages)]\n",
    "labels = np.asarray(labels).reshape(2,2)\n",
    "\n",
    "ax = sns.heatmap(result, annot=labels, fmt='', cmap='Blues')\n",
    "ax.set_title('06.18 Model Confusion Matrix\\n\\n');\n",
    "ax.set_xlabel('\\nPredicted')\n",
    "ax.set_ylabel('Actual');\n",
    "\n",
    "## Ticket labels - List must be in alphabetical order\n",
    "ax.xaxis.set_ticklabels(['False','True'])\n",
    "ax.yaxis.set_ticklabels(['False','True'])\n",
    "\n",
    "## Display the visualization of the Confusion Matrix.\n",
    "plt.show()"
   ]
  },
  {
   "cell_type": "markdown",
   "metadata": {},
   "source": [
    "## Validation"
   ]
  },
  {
   "cell_type": "code",
   "execution_count": null,
   "metadata": {},
   "outputs": [
    {
     "data": {
      "image/png": "[encoded data removed]",
      "text/plain": [
       "<Figure size 432x288 with 1 Axes>"
      ]
     },
     "metadata": {
      "needs_background": "light"
     },
     "output_type": "display_data"
    },
    {
     "data": {
      "image/png": "[encoded data removed]",
      "text/plain": [
       "<Figure size 432x288 with 1 Axes>"
      ]
     },
     "metadata": {
      "needs_background": "light"
     },
     "output_type": "display_data"
    },
    {
     "name": "stdout",
     "output_type": "stream",
     "text": [
      "Predictions [0] : [1]\n"
     ]
    }
   ],
   "source": [
    "f = [0, 1]\n",
    "\n",
    "plt.figure()\n",
    "plt.plot(x[f[0]])\n",
    "plt.show()\n",
    "plt.figure()\n",
    "plt.plot(x[f[1]])\n",
    "plt.show()\n",
    "print(f'Predictions [{y_pred[f[0]]}] : [{y_pred[f[1]]}]')"
   ]
  },
  {
   "cell_type": "code",
   "execution_count": null,
   "metadata": {},
   "outputs": [],
   "source": [
    "import random\n",
    "\n",
    "# create an array with random numbers from 0 to 1\n",
    "x_test = np.random.rand(100, 200)\n",
    "# x_test = x_test.reshape(1, len(x_test), 1)\n",
    "# use model to predict the class of the random numbers\n",
    "pred = model.predict(x_test)\n",
    "print(pred)"
   ]
  },
  {
   "cell_type": "markdown",
   "metadata": {},
   "source": [
    "### Validating Individual Instances"
   ]
  },
  {
   "cell_type": "code",
   "execution_count": 113,
   "metadata": {},
   "outputs": [],
   "source": [
    "z = np.random.rand(200)"
   ]
  },
  {
   "cell_type": "code",
   "execution_count": 123,
   "metadata": {},
   "outputs": [
    {
     "name": "stdout",
     "output_type": "stream",
     "text": [
      "1/1 [==============================] - 0s 23ms/step\n",
      "[0]\n"
     ]
    }
   ],
   "source": [
    "pred = model.predict(z.reshape(1, len(z), 1))\n",
    "print(np.argmax(pred,axis=1))"
   ]
  },
  {
   "cell_type": "code",
   "execution_count": 124,
   "metadata": {},
   "outputs": [
    {
     "name": "stdout",
     "output_type": "stream",
     "text": [
      "Prediction: No incident\n"
     ]
    }
   ],
   "source": [
    "if pred[0][0] > pred[0][1]:\n",
    "    print('Prediction: No incident')\n",
    "else:\n",
    "    print('Prediction: Incident')"
   ]
  },
  {
   "cell_type": "code",
   "execution_count": null,
   "metadata": {},
   "outputs": [],
   "source": []
  }
 ],
 "metadata": {
  "kernelspec": {
   "display_name": "Python 3.9.12 ('TF29_PY39')",
   "language": "python",
   "name": "python3"
  },
  "language_info": {
   "codemirror_mode": {
    "name": "ipython",
    "version": 3
   },
   "file_extension": ".py",
   "mimetype": "text/x-python",
   "name": "python",
   "nbconvert_exporter": "python",
   "pygments_lexer": "ipython3",
   "version": "3.9.12"
  },
  "orig_nbformat": 4,
  "vscode": {
   "interpreter": {
    "hash": "e8ccd1f78b08338c56d6315dbbc03b22ce55e31fb67884ce372769d8a6478d62"
   }
  }
 },
 "nbformat": 4,
 "nbformat_minor": 2
}
