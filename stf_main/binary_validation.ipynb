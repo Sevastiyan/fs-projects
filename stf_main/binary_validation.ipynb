{
 "cells": [
  {
   "cell_type": "code",
   "execution_count": 1,
   "metadata": {},
   "outputs": [],
   "source": [
    "from tensorflow import keras\n",
    "from models.ts_cnn import MULTI_TS_CNN as ts_cnn\n",
    "import numpy as np\n",
    "from sklearn.model_selection import train_test_split\n",
    "from models.loader import loader\n",
    "import matplotlib.pyplot as plt\n",
    "from sklearn import preprocessing\n",
    "from utils.normalisation import min_max"
   ]
  },
  {
   "cell_type": "code",
   "execution_count": 2,
   "metadata": {},
   "outputs": [],
   "source": [
    "# Model Loader:\n",
    "model = ts_cnn()\n",
    "model.load_weights('multi_model_2022-10-26.h5')"
   ]
  },
  {
   "cell_type": "code",
   "execution_count": 3,
   "metadata": {},
   "outputs": [],
   "source": [
    "# Reading Data\n",
    "slip_acc = np.loadtxt('data/multiclass_validation_data/Slip/incidents_acc.txt')\n",
    "slip_gyro = np.loadtxt('data/multiclass_validation_data/Slip/incidents_gyro.txt')\n",
    "trip_acc = np.loadtxt('data/multiclass_validation_data/Trip/incidents_acc.txt')\n",
    "trip_gyro = np.loadtxt('data/multiclass_validation_data/Trip/incidents_gyro.txt')\n",
    "no_incident_acc = np.loadtxt('data/multiclass_validation_data/No Incident/no_incidents_acc.txt')\n",
    "no_incident_gyro = np.loadtxt('data/multiclass_validation_data/No Incident/no_incidents_gyro.txt')"
   ]
  },
  {
   "cell_type": "code",
   "execution_count": 4,
   "metadata": {},
   "outputs": [
    {
     "name": "stdout",
     "output_type": "stream",
     "text": [
      "x slip: (20, 2, 200)\n",
      "x trip: (32, 2, 200)\n",
      "x no incident: (64, 2, 200)\n",
      "____________________________________\n",
      "x: (116, 2, 200)\n",
      "nans: False\n",
      "y: (116, 2)\n"
     ]
    }
   ],
   "source": [
    "# Stacking\n",
    "x_slip = np.stack([slip_acc, slip_gyro], axis=1)\n",
    "x_trip = np.stack([trip_acc, trip_gyro], axis=1)\n",
    "x_no_incident = np.stack([no_incident_acc, no_incident_gyro], axis=1)\n",
    "x_negative = np.concatenate([x_no_incident])\n",
    "x = np.concatenate([x_negative, x_slip, x_trip], axis=0)\n",
    "\n",
    "# Labels\n",
    "y_slip = np.ones(x_slip.shape[0]).astype(int)\n",
    "y_trip = np.ones(x_trip.shape[0])\n",
    "y_trip = y_trip.astype(int)\n",
    "y_negative = np.zeros(x_negative.shape[0]).astype(int)\n",
    "y_all = np.concatenate([y_negative, y_slip, y_trip])\n",
    "y = keras.utils.to_categorical(y_all)\n",
    "\n",
    "print(f'x slip: {x_slip.shape}')\n",
    "print(f'x trip: {x_trip.shape}')\n",
    "print(f'x no incident: {x_negative.shape}')\n",
    "print('____________________________________')\n",
    "\n",
    "#Check for nans\n",
    "print(f'x: {x.shape}')\n",
    "print(f'nans: {np.any(np.isnan(x))}')\n",
    "print(f'y: {y.shape}')"
   ]
  },
  {
   "cell_type": "code",
   "execution_count": 5,
   "metadata": {},
   "outputs": [
    {
     "name": "stdout",
     "output_type": "stream",
     "text": [
      "4/4 [==============================] - 11s 43ms/step\n",
      "prediction_Negative: 8\n",
      "prediction_Positive: 108\n"
     ]
    }
   ],
   "source": [
    "idx = np.random.permutation(len(x))\n",
    "x = x[idx]\n",
    "y = y[idx]\n",
    "\n",
    "y_val = y.argmax(axis=1)\n",
    "y_pred = np.argmax(model.predict([x[:,0], x[:,1]]), axis=1)\n",
    "\n",
    "# find how many positive and negative samples are in the predicted dataset\n",
    "print(f'prediction_Negative: {np.sum(y_pred == 0)}')\n",
    "print(f'prediction_Positive: {np.sum(y_pred == 1)}')"
   ]
  },
  {
   "cell_type": "code",
   "execution_count": 6,
   "metadata": {},
   "outputs": [],
   "source": [
    "from sklearn.metrics import confusion_matrix\n",
    "import seaborn as sns\n",
    "#Create confusion matrix and normalizes it over predicted (columns)\n",
    "result = confusion_matrix(y_val, y_pred, labels=[0,1])"
   ]
  },
  {
   "cell_type": "code",
   "execution_count": 7,
   "metadata": {},
   "outputs": [
    {
     "data": {
      "text/plain": [
       "array([[ 4, 60],\n",
       "       [ 4, 48]], dtype=int64)"
      ]
     },
     "execution_count": 7,
     "metadata": {},
     "output_type": "execute_result"
    }
   ],
   "source": [
    "result"
   ]
  },
  {
   "cell_type": "code",
   "execution_count": 8,
   "metadata": {},
   "outputs": [
    {
     "data": {
      "image/png": "[encoded data removed]",
      "text/plain": [
       "<Figure size 432x288 with 2 Axes>"
      ]
     },
     "metadata": {
      "needs_background": "light"
     },
     "output_type": "display_data"
    }
   ],
   "source": [
    "# Matrix without labels\n",
    "ax = sns.heatmap(result/np.sum(result), annot=True, \n",
    "            fmt='.2%', cmap='Blues')\n",
    "\n",
    "ax.set_title('Seaborn Confusion Matrix with labels\\n\\n');\n",
    "ax.set_xlabel('\\nPredicted Incidents')\n",
    "ax.set_ylabel('Actual Incidents ');\n",
    "\n",
    "## Ticket labels - List must be in alphabetical order\n",
    "ax.xaxis.set_ticklabels(['No Incident','Incident'])\n",
    "ax.yaxis.set_ticklabels(['No Incident','Incident'])\n",
    "\n",
    "## Display the visualization of the Confusion Matrix.\n",
    "plt.show()"
   ]
  },
  {
   "cell_type": "code",
   "execution_count": null,
   "metadata": {},
   "outputs": [],
   "source": []
  }
 ],
 "metadata": {
  "kernelspec": {
   "display_name": "Python 3.9.12 ('TF29_PY39')",
   "language": "python",
   "name": "python3"
  },
  "language_info": {
   "codemirror_mode": {
    "name": "ipython",
    "version": 3
   },
   "file_extension": ".py",
   "mimetype": "text/x-python",
   "name": "python",
   "nbconvert_exporter": "python",
   "pygments_lexer": "ipython3",
   "version": "3.9.12"
  },
  "orig_nbformat": 4,
  "vscode": {
   "interpreter": {
    "hash": "e8ccd1f78b08338c56d6315dbbc03b22ce55e31fb67884ce372769d8a6478d62"
   }
  }
 },
 "nbformat": 4,
 "nbformat_minor": 2
}
