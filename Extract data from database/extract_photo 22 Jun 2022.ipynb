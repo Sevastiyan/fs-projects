{
 "cells": [
  {
   "cell_type": "code",
   "execution_count": 71,
   "metadata": {},
   "outputs": [],
   "source": [
    "# Python program to read json file\n",
    "import json\n",
    "import pandas as pd\n",
    "\n",
    "# Request url info\n",
    "import requests  "
   ]
  },
  {
   "cell_type": "code",
   "execution_count": 72,
   "metadata": {},
   "outputs": [],
   "source": [
    "def extract_session_from_database(full_data, userPointer):\n",
    "    '''\n",
    "    Extracting database info user of interest\n",
    "\n",
    "    @Params:\n",
    "    userPointer (str) - B4A user account to extract from\n",
    "    start_session (int) - User session number to extract from\n",
    "    end_session (int) - User session number to extract from\n",
    "    '''\n",
    "\n",
    "    data = []\n",
    "    # Filter full JSON file to a list of dictionaries without 'results' key\n",
    "    for i in range(len(full_data['results'])):\n",
    "        if (full_data['results'][i]['userPointer']['objectId'] == userPointer) and (start_session <= full_data['results'][i]['sessionNumber'] <= end_session):\n",
    "            data.append(full_data['results'][i])\n",
    "\n",
    "    return data\n",
    "\n",
    "def extract_url(data):\n",
    "    '''\n",
    "    Extract url field from database info\n",
    "\n",
    "    Params:\n",
    "    data - data rows of user of interest\n",
    "\n",
    "    Returns a list of url\n",
    "\n",
    "    '''\n",
    "\n",
    "    url_list = []\n",
    "    # Append url of data in list to prepare for download\n",
    "    for i in range(len(data)):\n",
    "        url_list.append(data['feetScan'][i]['url'])\n",
    "\n",
    "    return url_list\n",
    "\n",
    "def download_files(url_list, download_path):\n",
    "    '''\n",
    "    Download files into provided pathway given a list of url\n",
    "\n",
    "    @Params:\n",
    "    url_list (list) - List of url to download from\n",
    "    download_path (str) - path to download the files into\n",
    "\n",
    "    Does not have return values\n",
    "    '''\n",
    "\n",
    "    # Save text from url as a .txt\n",
    "    for url in url_list:\n",
    "        f = requests.get(url)\n",
    "        \n",
    "        # filename gotten by splitting url and removing the unique ID of each dataset\n",
    "        filename = url.split('/')[-1][33:]\n",
    "\n",
    "        # Save files as txt\n",
    "        with open(download_path + filename, \"wb+\") as pic_file:\n",
    "            pic_file.write(f.content)\n",
    "\n",
    "    return"
   ]
  },
  {
   "cell_type": "markdown",
   "metadata": {},
   "source": [
    "# Photo Downloads define variables here "
   ]
  },
  {
   "cell_type": "code",
   "execution_count": 73,
   "metadata": {},
   "outputs": [],
   "source": [
    "userPointer = 'TPZLB9w7WJ'\n",
    "\n",
    "# Insert full directory, include '/' at the end to prevent directory misname\n",
    "download_path = 'C:/Users/bendy/Desktop/Ben/!! Summary of ipynb (Most updated)/Extract data from database/downloaded_files/'"
   ]
  },
  {
   "cell_type": "code",
   "execution_count": 74,
   "metadata": {},
   "outputs": [],
   "source": [
    "# Extract csv from B4A ImageTable class\n",
    "full_data = pd.read_csv('json file/ImageTable.csv')\n",
    "\n",
    "# Convert feetScan Column into json format\n",
    "full_data['feetScan'] = full_data['feetScan'].apply(lambda x: json.loads(x))\n",
    "\n",
    "# # Filter data and reset index for looping in later functions\n",
    "full_data = full_data[full_data['userPointer'] == userPointer].reset_index()\n",
    "\n",
    "url_list = extract_url(full_data)\n",
    "download_files(url_list, download_path)"
   ]
  },
  {
   "cell_type": "markdown",
   "metadata": {},
   "source": [
    "# Extract Raw Data Files define variables here"
   ]
  },
  {
   "cell_type": "code",
   "execution_count": 75,
   "metadata": {},
   "outputs": [],
   "source": [
    "# userPointer = 'pJcKIuG40k'\n",
    "# start_session = 63\n",
    "# end_session = 87\n",
    "\n",
    "# # Insert full directory, include '/' at the end to prevent directory misname\n",
    "# download_path = 'C:/Users/bendy/Desktop/Ben/!! Summary of ipynb (Most updated)/Extract data from database/downloaded_files/'\n"
   ]
  },
  {
   "cell_type": "markdown",
   "metadata": {},
   "source": [
    "## Run Program here"
   ]
  },
  {
   "cell_type": "code",
   "execution_count": 76,
   "metadata": {},
   "outputs": [],
   "source": [
    "# data = extract_session_from_database(full_data, userPointer, start_session,end_session)\n",
    "# url_list = extract_url(data)\n",
    "# download_files(url_list, download_path)"
   ]
  },
  {
   "cell_type": "markdown",
   "metadata": {},
   "source": [
    "## Double checking number of data received and files downloaded"
   ]
  },
  {
   "cell_type": "code",
   "execution_count": 77,
   "metadata": {},
   "outputs": [
    {
     "ename": "NameError",
     "evalue": "name 'data' is not defined",
     "output_type": "error",
     "traceback": [
      "\u001b[1;31m---------------------------------------------------------------------------\u001b[0m",
      "\u001b[1;31mNameError\u001b[0m                                 Traceback (most recent call last)",
      "Input \u001b[1;32mIn [77]\u001b[0m, in \u001b[0;36m<cell line: 1>\u001b[1;34m()\u001b[0m\n\u001b[1;32m----> 1\u001b[0m \u001b[38;5;28mprint\u001b[39m(\u001b[38;5;124mf\u001b[39m\u001b[38;5;124m\"\u001b[39m\u001b[38;5;124mTotal number of session is: \u001b[39m\u001b[38;5;132;01m{\u001b[39;00m\u001b[38;5;28mlen\u001b[39m(data)\u001b[38;5;132;01m}\u001b[39;00m\u001b[38;5;124m\"\u001b[39m)\n\u001b[0;32m      2\u001b[0m \u001b[38;5;28mprint\u001b[39m(\u001b[38;5;124mf\u001b[39m\u001b[38;5;124m\"\u001b[39m\u001b[38;5;124mTotal length in url_list is: \u001b[39m\u001b[38;5;132;01m{\u001b[39;00m\u001b[38;5;28mlen\u001b[39m(url_list)\u001b[38;5;132;01m}\u001b[39;00m\u001b[38;5;124m (Supposed to be twice of sessions)\u001b[39m\u001b[38;5;124m\"\u001b[39m)\n",
      "\u001b[1;31mNameError\u001b[0m: name 'data' is not defined"
     ]
    }
   ],
   "source": [
    "print(f\"Total number of session is: {len(data)}\")\n",
    "print(f\"Total length in url_list is: {len(url_list)} (Supposed to be twice of sessions)\")"
   ]
  }
 ],
 "metadata": {
  "interpreter": {
   "hash": "b3ba2566441a7c06988d0923437866b63cedc61552a5af99d1f4fb67d367b25f"
  },
  "kernelspec": {
   "display_name": "Python 3.8.12 64-bit ('base': conda)",
   "language": "python",
   "name": "python3"
  },
  "language_info": {
   "codemirror_mode": {
    "name": "ipython",
    "version": 3
   },
   "file_extension": ".py",
   "mimetype": "text/x-python",
   "name": "python",
   "nbconvert_exporter": "python",
   "pygments_lexer": "ipython3",
   "version": "3.9.12"
  },
  "orig_nbformat": 4
 },
 "nbformat": 4,
 "nbformat_minor": 2
}
