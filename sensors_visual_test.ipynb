{
 "cells": [
  {
   "cell_type": "code",
   "execution_count": 8,
   "metadata": {},
   "outputs": [],
   "source": [
    "import numpy as np\n",
    "import matplotlib.pyplot as plt\n"
   ]
  },
  {
   "cell_type": "code",
   "execution_count": 9,
   "metadata": {},
   "outputs": [],
   "source": [
    "def sensors():\n",
    "    return {\n",
    "        \"left\": {\n",
    "            \"x\": np.asarray(\n",
    "                [\n",
    "                    -15.781,\n",
    "                    0.151,\n",
    "                    16.421,\n",
    "                    16.257,\n",
    "                    32.360,\n",
    "                    9.439,\n",
    "                    25.545,\n",
    "                    3.566,\n",
    "                    -16.666,\n",
    "                    -15.802,\n",
    "                    -31.683,\n",
    "                    -32.360,\n",
    "                    -24.562,\n",
    "                    -21.915,\n",
    "                ]\n",
    "            ),\n",
    "            \"y\": np.asarray(\n",
    "                [-72.290, -103.172, -72.955, -13.299, 60.864, 63.219, 92.967, 103.172, 89.974, 54.246, 71.145, 33.512, 8.389, -18.231]\n",
    "            ),\n",
    "        },\n",
    "        \"right\": {\n",
    "            \"x\": np.asarray(\n",
    "                [\n",
    "                    15.781,\n",
    "                    -0.151,\n",
    "                    -16.421,\n",
    "                    -16.257,\n",
    "                    -32.360,\n",
    "                    -9.439,\n",
    "                    -25.545,\n",
    "                    -3.566,\n",
    "                    16.666,\n",
    "                    15.802,\n",
    "                    31.683,\n",
    "                    32.360,\n",
    "                    24.562,\n",
    "                    21.915,\n",
    "                ]\n",
    "            ),\n",
    "            \"y\": np.asarray(\n",
    "                [-72.290, -103.172, -72.955, -13.299, 60.864, 63.219, 92.967, 103.172, 89.974, 54.246, 71.145, 33.512, 8.389, -18.231]\n",
    "            ),\n",
    "        },\n",
    "    }"
   ]
  },
  {
   "cell_type": "code",
   "execution_count": 18,
   "metadata": {},
   "outputs": [
    {
     "data": {
      "image/png": "[encoded data removed]",
      "text/plain": [
       "<Figure size 432x288 with 1 Axes>"
      ]
     },
     "metadata": {
      "needs_background": "light"
     },
     "output_type": "display_data"
    }
   ],
   "source": [
    "\n",
    "data = sensors()\n",
    "\n",
    "plt.scatter(data[\"left\"][\"x\"] - 100, data[\"left\"][\"y\"], label=\"Left Sensor\")\n",
    "plt.scatter(data[\"right\"][\"x\"] + 100, data[\"right\"][\"y\"], label=\"Right Sensor\")\n",
    "\n",
    "for i, txt in enumerate(range(1, 15)):\n",
    "    plt.text(data[\"left\"][\"x\"][i] - 100, data[\"left\"][\"y\"][i], str(txt), fontsize=8, color='blue')\n",
    "\n",
    "for i, txt in enumerate(range(1, 15)):\n",
    "    plt.text(data[\"right\"][\"x\"][i] + 100, data[\"right\"][\"y\"][i], str(txt), fontsize=8, color='orange')\n",
    "\n",
    "plt.xlabel(\"X-axis\")\n",
    "plt.ylabel(\"Y-axis\")\n",
    "plt.title(\"Scatter Plot of Sensor Data with Numbers\")\n",
    "plt.legend()\n",
    "plt.show()"
   ]
  }
 ],
 "metadata": {
  "kernelspec": {
   "display_name": "TF29_PY39",
   "language": "python",
   "name": "python3"
  },
  "language_info": {
   "codemirror_mode": {
    "name": "ipython",
    "version": 3
   },
   "file_extension": ".py",
   "mimetype": "text/x-python",
   "name": "python",
   "nbconvert_exporter": "python",
   "pygments_lexer": "ipython3",
   "version": "3.9.12"
  }
 },
 "nbformat": 4,
 "nbformat_minor": 2
}
